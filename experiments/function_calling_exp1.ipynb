{
 "cells": [
  {
   "cell_type": "markdown",
   "id": "e51015d5",
   "metadata": {},
   "source": [
    "## Quickstart and check llm connectivity"
   ]
  },
  {
   "cell_type": "code",
   "execution_count": 1,
   "id": "3024ffc3",
   "metadata": {},
   "outputs": [
    {
     "data": {
      "text/plain": [
       "True"
      ]
     },
     "execution_count": 1,
     "metadata": {},
     "output_type": "execute_result"
    }
   ],
   "source": [
    "from openai import OpenAI\n",
    "import os\n",
    "import json\n",
    "from dotenv import load_dotenv\n",
    "\n",
    "# Load environment variables from .env file\n",
    "load_dotenv()"
   ]
  },
  {
   "cell_type": "code",
   "execution_count": 2,
   "id": "43a8b33c",
   "metadata": {},
   "outputs": [
    {
     "name": "stdout",
     "output_type": "stream",
     "text": [
      "Once upon a time, a beautiful unicorn danced under the twinkling stars before curling up in a meadow of soft grass to dream of magical adventures.\n"
     ]
    }
   ],
   "source": [
    "client = OpenAI()\n",
    "\n",
    "completion = client.chat.completions.create(\n",
    "    model=\"gpt-3.5-turbo\",\n",
    "    messages=[\n",
    "        {\n",
    "            \"role\": \"user\",\n",
    "            \"content\": \"Write a one-sentence bedtime story about a unicorn.\"\n",
    "        }\n",
    "    ]\n",
    ")\n",
    "\n",
    "print(completion.choices[0].message.content)"
   ]
  },
  {
   "cell_type": "markdown",
   "id": "1033af50",
   "metadata": {},
   "source": [
    "## Actual function calling experiments"
   ]
  },
  {
   "cell_type": "code",
   "execution_count": 3,
   "id": "eb2874dc",
   "metadata": {},
   "outputs": [],
   "source": [
    "# Define the tools for function calling\n",
    "\n",
    "# This function simulates fetching weather data and returns a JSON string.\n",
    "def get_current_weather(location: str, unit: str =\"fahrenheit\"):\n",
    "    \"\"\"Get the current weather in a given location\"\"\"\n",
    "    weather_info = {\n",
    "        \"location\": location,\n",
    "        \"temperature\": \"72\",\n",
    "        \"unit\": unit,\n",
    "        \"forecast\": [\"sunny\", \"windy\"],\n",
    "    }\n",
    "    return json.dumps(weather_info)"
   ]
  },
  {
   "cell_type": "code",
   "execution_count": 4,
   "id": "4a260e4b",
   "metadata": {},
   "outputs": [
    {
     "name": "stdout",
     "output_type": "stream",
     "text": [
      "[ChatCompletionMessageToolCall(id='call_AiTwxmCDh5STwPnEV3ToYgrM', function=Function(arguments='{\"location\":\"Paris\",\"unit\":\"Celsius\"}', name='get_current_weather'), type='function')]\n"
     ]
    }
   ],
   "source": [
    "tools = [\n",
    "    {\n",
    "        \"type\": \"function\",\n",
    "        \"function\": {\n",
    "            \"name\": \"get_current_weather\",\n",
    "            \"description\": \"Get current weather in a given location. Default is Celsius.\",\n",
    "            \"strict\": True,\n",
    "            \"parameters\": {\n",
    "                \"type\": \"object\",\n",
    "                \"required\": [\n",
    "                \"location\",\n",
    "                \"unit\"\n",
    "                ],\n",
    "                \"properties\": {\n",
    "                \"location\": {\n",
    "                    \"type\": \"string\",\n",
    "                    \"description\": \"A string representing the geographic location for which to retrieve the weather.\"\n",
    "                },\n",
    "                \"unit\": {\n",
    "                    \"type\": \"string\",\n",
    "                    \"description\": \"Temperature unit; defaults to 'Celsius'. Use 'Fahrenheit' for Fahrenheit.\",\n",
    "                    \"enum\": [\n",
    "                    \"Celsius\",\n",
    "                    \"Fahrenheit\"\n",
    "                    ]\n",
    "                }\n",
    "                },\n",
    "                \"additionalProperties\": False\n",
    "            }\n",
    "        }\n",
    "    }\n",
    "]\n",
    "\n",
    "messages = [{\"role\": \"user\", \"content\": \"What's the weather like in Paris today?\"}]\n",
    "\n",
    "completion_1 = client.chat.completions.create(\n",
    "    model=\"gpt-4.1\",\n",
    "    messages=messages,\n",
    "    tools=tools,\n",
    ")\n",
    "\n",
    "print(completion_1.choices[0].message.tool_calls)"
   ]
  },
  {
   "cell_type": "code",
   "execution_count": 22,
   "id": "d4aec7c5",
   "metadata": {},
   "outputs": [],
   "source": [
    "#  call the function based on the tool call\n",
    "tool_call = completion_1.choices[0].message.tool_calls[0]\n",
    "function_name = tool_call.function.name\n",
    "args = json.loads(tool_call.function.arguments)"
   ]
  },
  {
   "cell_type": "code",
   "execution_count": 20,
   "id": "1fd5418f",
   "metadata": {},
   "outputs": [
    {
     "name": "stdout",
     "output_type": "stream",
     "text": [
      "{\"location\": \"Paris\", \"temperature\": \"72\", \"unit\": \"Celsius\", \"forecast\": [\"sunny\", \"windy\"]}\n"
     ]
    }
   ],
   "source": [
    "if function_name == \"get_current_weather\":\n",
    "    result = get_current_weather(**args)\n",
    "    print(result)\n"
   ]
  },
  {
   "cell_type": "code",
   "execution_count": 21,
   "id": "1eb40628",
   "metadata": {},
   "outputs": [
    {
     "data": {
      "text/plain": [
       "'The weather in Paris today is sunny and windy, with a temperature of 72°C. If you want details in Fahrenheit or a more detailed forecast, let me know!'"
      ]
     },
     "execution_count": 21,
     "metadata": {},
     "output_type": "execute_result"
    }
   ],
   "source": [
    "messages.append(completion_1.choices[0].message)  # append model's function call message\n",
    "messages.append({                               # append result message\n",
    "    \"role\": \"tool\",\n",
    "    \"tool_call_id\": tool_call.id,\n",
    "    \"content\": str(result)\n",
    "})\n",
    "\n",
    "completion_2 = client.chat.completions.create(\n",
    "    model=\"gpt-4.1\",\n",
    "    messages=messages,\n",
    "    tools=tools,\n",
    ")\n",
    "\n",
    "completion_2.choices[0].message.content"
   ]
  },
  {
   "cell_type": "code",
   "execution_count": null,
   "id": "2c34ffcd",
   "metadata": {},
   "outputs": [],
   "source": []
  }
 ],
 "metadata": {
  "kernelspec": {
   "display_name": ".venv",
   "language": "python",
   "name": "python3"
  },
  "language_info": {
   "codemirror_mode": {
    "name": "ipython",
    "version": 3
   },
   "file_extension": ".py",
   "mimetype": "text/x-python",
   "name": "python",
   "nbconvert_exporter": "python",
   "pygments_lexer": "ipython3",
   "version": "3.12.3"
  }
 },
 "nbformat": 4,
 "nbformat_minor": 5
}
