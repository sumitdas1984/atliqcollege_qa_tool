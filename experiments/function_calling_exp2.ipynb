{
 "cells": [
  {
   "cell_type": "markdown",
   "id": "dca5baf4",
   "metadata": {},
   "source": [
    "## Quickstart and check llm connectivity"
   ]
  },
  {
   "cell_type": "code",
   "execution_count": 2,
   "id": "6b260b95",
   "metadata": {},
   "outputs": [
    {
     "data": {
      "text/plain": [
       "True"
      ]
     },
     "execution_count": 2,
     "metadata": {},
     "output_type": "execute_result"
    }
   ],
   "source": [
    "from openai import OpenAI\n",
    "import os\n",
    "from dotenv import load_dotenv\n",
    "import json\n",
    "import requests\n",
    "\n",
    "load_dotenv()  # Load environment variables from .env file"
   ]
  },
  {
   "cell_type": "code",
   "execution_count": 3,
   "id": "0af2b615",
   "metadata": {},
   "outputs": [
    {
     "name": "stdout",
     "output_type": "stream",
     "text": [
      "Once upon a time, a majestic unicorn danced under the moonlight, spreading magic and dreams throughout the land.\n"
     ]
    }
   ],
   "source": [
    "client = OpenAI()\n",
    "\n",
    "completion = client.chat.completions.create(\n",
    "    model=\"gpt-3.5-turbo\",\n",
    "    messages=[\n",
    "        {\n",
    "            \"role\": \"user\",\n",
    "            \"content\": \"Write a one-sentence bedtime story about a unicorn.\"\n",
    "        }\n",
    "    ]\n",
    ")\n",
    "\n",
    "print(completion.choices[0].message.content)"
   ]
  },
  {
   "cell_type": "markdown",
   "id": "f08a60bc",
   "metadata": {},
   "source": [
    "## Actual function calling experiments"
   ]
  },
  {
   "cell_type": "code",
   "execution_count": 4,
   "id": "2b07f2b7",
   "metadata": {},
   "outputs": [],
   "source": [
    "# Define the tools for function calling\n",
    "\n",
    "# write a function to get current weather\n",
    "def get_current_weather(latitude, longitude):\n",
    "    response = requests.get(f\"https://api.open-meteo.com/v1/forecast?latitude={latitude}&longitude={longitude}&current=temperature_2m,wind_speed_10m&hourly=temperature_2m,relative_humidity_2m,wind_speed_10m\")\n",
    "    data = response.json()\n",
    "    return data['current']['temperature_2m']\n",
    "\n",
    "\n",
    "# write a function to send email\n",
    "def send_email(recipients, subject, body):\n",
    "    # This is a placeholder function. In a real application, you would use an email sending service.\n",
    "    print(f\"Sending email to: {', '.join(recipients)}\")\n",
    "    print(f\"Subject: {subject}\")\n",
    "    print(f\"Body: {body}\")\n",
    "    return {\"status\": \"success\", \"message\": \"Email sent successfully.\"}\n",
    "\n",
    "\n",
    "# write a function to query knowledge base\n",
    "def query_knowledge_base(query, limit):\n",
    "    # This is a placeholder function. In a real application, you would query a database or an API.\n",
    "    print(f\"Querying knowledge base for: {query} with limit {limit}\")\n",
    "    return {\"results\": [{\"title\": \"ChatGPT Overview\", \"content\": \"ChatGPT is a language model developed by OpenAI.\"}] * limit}  # Simulating multiple results for the sake of example"
   ]
  },
  {
   "cell_type": "code",
   "execution_count": 5,
   "id": "519cbd46",
   "metadata": {},
   "outputs": [],
   "source": [
    "# Define the tools for the OpenAI client\n",
    "\n",
    "# get_current_weather_function_tool\n",
    "get_current_weather_function_tool = {\n",
    "  \"name\": \"get_current_weather\",\n",
    "  \"description\": \"Get current weather in a given location for provided coordinates. Default is Celsius.\",\n",
    "  \"strict\": True,\n",
    "  \"parameters\": {\n",
    "    \"type\": \"object\",\n",
    "    \"required\": [\n",
    "      \"latitude\",\n",
    "      \"longitude\",\n",
    "      \"unit\"\n",
    "    ],\n",
    "    \"properties\": {\n",
    "      \"latitude\": {\n",
    "        \"type\": \"number\",\n",
    "        \"description\": \"Latitude coordinate of the location\"\n",
    "      },\n",
    "      \"longitude\": {\n",
    "        \"type\": \"number\",\n",
    "        \"description\": \"Longitude coordinate of the location\"\n",
    "      },\n",
    "      \"unit\": {\n",
    "        \"type\": \"string\",\n",
    "        \"description\": \"Unit of temperature measurement\",\n",
    "        \"enum\": [\n",
    "          \"Celsius\",\n",
    "          \"Fahrenheit\"\n",
    "        ]\n",
    "      }\n",
    "    },\n",
    "    \"additionalProperties\": False\n",
    "  }\n",
    "}\n",
    "\n",
    "# send_email_function_tool\n",
    "send_email_function_tool = {\n",
    "    \"name\": \"send_email\",\n",
    "    \"description\": \"Send an email to one or more recipients.\",\n",
    "    \"strict\": True,\n",
    "    \"parameters\": {\n",
    "        \"type\": \"object\",\n",
    "        \"required\": [\"recipients\", \"subject\", \"body\"],\n",
    "        \"properties\": {\n",
    "            \"recipients\": {\n",
    "                \"type\": \"array\",\n",
    "                \"items\": {\n",
    "                    \"type\": \"string\",\n",
    "                    \"format\": \"email\"\n",
    "                },\n",
    "                \"description\": \"List of email addresses to send the email to.\"\n",
    "            },\n",
    "            \"subject\": {\n",
    "                \"type\": \"string\",\n",
    "                \"description\": \"Subject line of the email.\"\n",
    "            },\n",
    "            \"body\": {\n",
    "                \"type\": \"string\",\n",
    "                \"description\": \"Body content of the email.\"\n",
    "            }\n",
    "        },\n",
    "        \"additionalProperties\": False\n",
    "    }\n",
    "}\n",
    "\n",
    "# query_knowledge_base_function_tool\n",
    "query_knowledge_base_function_tool = {\n",
    "  \"name\": \"query_knowledge_base\",\n",
    "  \"description\": \"Query a knowledge base to retrieve relevant info on a topic.\",\n",
    "  \"strict\": True,\n",
    "  \"parameters\": {\n",
    "    \"type\": \"object\",\n",
    "    \"required\": [\n",
    "      \"query\",\n",
    "      \"limit\",\n",
    "    ],\n",
    "    \"properties\": {\n",
    "      \"query\": {\n",
    "        \"type\": \"string\",\n",
    "        \"description\": \"The search term or phrase to find in the knowledge base.\"\n",
    "      },\n",
    "      \"limit\": {\n",
    "        \"type\": \"number\",\n",
    "        \"description\": \"Maximum number of results to return.\"\n",
    "      },\n",
    "    },\n",
    "    \"additionalProperties\": False\n",
    "  }\n",
    "}"
   ]
  },
  {
   "cell_type": "code",
   "execution_count": 6,
   "id": "2f91b139",
   "metadata": {},
   "outputs": [],
   "source": [
    "tools = [\n",
    "    {\n",
    "        \"type\": \"function\",\n",
    "        \"function\": get_current_weather_function_tool\n",
    "    },\n",
    "    {\n",
    "        \"type\": \"function\",\n",
    "        \"function\": send_email_function_tool\n",
    "        },\n",
    "    {\n",
    "        \"type\": \"function\",\n",
    "        \"function\": query_knowledge_base_function_tool\n",
    "    }\n",
    "]"
   ]
  },
  {
   "cell_type": "code",
   "execution_count": 7,
   "id": "5b33c28e",
   "metadata": {},
   "outputs": [],
   "source": [
    "# # sample queries\n",
    "messages=[{\"role\": \"user\", \"content\": \"What is the weather like in Paris today?\"}]\n",
    "# messages=[{\"role\": \"user\", \"content\": \"Can you send an email to ilan@example.com and katia@example.com saying hi?\"}]\n",
    "# messages=[{\"role\": \"user\", \"content\": \"Can you find information about ChatGPT in the AI knowledge base?\"}]"
   ]
  },
  {
   "cell_type": "code",
   "execution_count": null,
   "id": "de966b38",
   "metadata": {},
   "outputs": [
    {
     "name": "stdout",
     "output_type": "stream",
     "text": [
      "[ChatCompletionMessageToolCall(id='call_fcGCmAtTzwWxY2f7FNysiMIW', function=Function(arguments='{\"latitude\":48.8566,\"longitude\":2.3522,\"unit\":\"Celsius\"}', name='get_current_weather'), type='function')]\n",
      "[ChatCompletionMessageToolCall(id='call_fcGCmAtTzwWxY2f7FNysiMIW', function=Function(arguments='{\"latitude\":48.8566,\"longitude\":2.3522,\"unit\":\"Celsius\"}', name='get_current_weather'), type='function')]\n"
     ]
    }
   ],
   "source": [
    "completion = client.chat.completions.create(\n",
    "    model=\"gpt-4.1\",\n",
    "    messages=messages,\n",
    "    tools=tools\n",
    ")"
   ]
  },
  {
   "cell_type": "code",
   "execution_count": null,
   "id": "02d5f430",
   "metadata": {},
   "outputs": [
    {
     "name": "stdout",
     "output_type": "stream",
     "text": [
      "ChatCompletionMessageToolCall(id='call_fcGCmAtTzwWxY2f7FNysiMIW', function=Function(arguments='{\"latitude\":48.8566,\"longitude\":2.3522,\"unit\":\"Celsius\"}', name='get_current_weather'), type='function')\n",
      "{'latitude': 48.8566, 'longitude': 2.3522, 'unit': 'Celsius'}\n"
     ]
    }
   ],
   "source": [
    "# call the function based on the tool call\n",
    "tool_call = completion.choices[0].message.tool_calls[0]\n",
    "args = json.loads(tool_call.function.arguments)"
   ]
  },
  {
   "cell_type": "code",
   "execution_count": 13,
   "id": "72f13bdf",
   "metadata": {},
   "outputs": [
    {
     "name": "stdout",
     "output_type": "stream",
     "text": [
      "18.4\n"
     ]
    }
   ],
   "source": [
    "if tool_call.function.name == \"get_current_weather\":\n",
    "    result = get_current_weather(args[\"latitude\"], args[\"longitude\"])\n",
    "    print(result)\n",
    "elif tool_call.function.name == \"send_email\":\n",
    "    result = send_email(args[\"recipients\"], args[\"subject\"], args[\"body\"])\n",
    "    print(result)\n",
    "elif tool_call.function.name == \"query_knowledge_base\":\n",
    "    result = query_knowledge_base(args[\"query\"], args[\"limit\"])\n",
    "    print(result)\n",
    "else:\n",
    "    print(f\"Unknown function call: {tool_call.function.name}\")\n",
    "    result = None"
   ]
  },
  {
   "cell_type": "code",
   "execution_count": 99,
   "id": "3ee7aad5",
   "metadata": {},
   "outputs": [],
   "source": [
    "messages.append(completion.choices[0].message)  # append model's function call message\n",
    "messages.append({                               # append result message\n",
    "    \"role\": \"tool\",\n",
    "    \"tool_call_id\": tool_call.id,\n",
    "    \"content\": str(result)\n",
    "})\n",
    "\n",
    "completion_2 = client.chat.completions.create(\n",
    "    model=\"gpt-4.1\",\n",
    "    messages=messages,\n",
    "    tools=tools,\n",
    ")"
   ]
  },
  {
   "cell_type": "code",
   "execution_count": 100,
   "id": "5f864f25",
   "metadata": {},
   "outputs": [
    {
     "data": {
      "text/plain": [
       "'The current temperature in Paris today is approximately 15.9°C. If you need more detailed weather information such as conditions or forecasts, let me know!'"
      ]
     },
     "execution_count": 100,
     "metadata": {},
     "output_type": "execute_result"
    }
   ],
   "source": [
    "completion_2.choices[0].message.content"
   ]
  },
  {
   "cell_type": "code",
   "execution_count": null,
   "id": "b8845cdf",
   "metadata": {},
   "outputs": [],
   "source": []
  }
 ],
 "metadata": {
  "kernelspec": {
   "display_name": ".venv",
   "language": "python",
   "name": "python3"
  },
  "language_info": {
   "codemirror_mode": {
    "name": "ipython",
    "version": 3
   },
   "file_extension": ".py",
   "mimetype": "text/x-python",
   "name": "python",
   "nbconvert_exporter": "python",
   "pygments_lexer": "ipython3",
   "version": "3.12.3"
  }
 },
 "nbformat": 4,
 "nbformat_minor": 5
}
